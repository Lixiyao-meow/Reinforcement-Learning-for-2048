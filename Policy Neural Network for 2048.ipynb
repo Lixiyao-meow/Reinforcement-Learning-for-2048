{
 "cells": [
  {
   "cell_type": "markdown",
   "metadata": {},
   "source": [
    "# Deep Reinforcement Learning for 2048"
   ]
  },
  {
   "cell_type": "code",
   "execution_count": 17,
   "metadata": {},
   "outputs": [],
   "source": [
    "import numpy as np\n",
    "import random\n",
    "import matplotlib.pyplot as plt\n",
    "from _2048_ import _2048"
   ]
  },
  {
   "cell_type": "markdown",
   "metadata": {},
   "source": [
    "## Game Setup"
   ]
  },
  {
   "cell_type": "code",
   "execution_count": 3,
   "metadata": {},
   "outputs": [],
   "source": [
    "game = _2048()"
   ]
  },
  {
   "cell_type": "markdown",
   "metadata": {},
   "source": [
    "Here we using number **0, 1, 2, 3** to represent the movement of **down, left, up, right**.\n",
    "\n",
    "State: game.matrix\\\n",
    "Action: [0,1,2,3]\\\n",
    "Reward: game.score\\\n",
    "Win Condition: the player obtain 2048\\\n",
    "Lost Condition: the player in blocked"
   ]
  },
  {
   "cell_type": "markdown",
   "metadata": {},
   "source": [
    "The approach could consist in representing the state space by an array of size 16 with each entry being an integer in [0,15]."
   ]
  },
  {
   "cell_type": "code",
   "execution_count": 5,
   "metadata": {},
   "outputs": [],
   "source": [
    "def log2(n):\n",
    "    if n == 1:\n",
    "        return 0\n",
    "    return 1 + log2(n>>1)\n",
    "\n",
    "def matrix_to_state(matrix):\n",
    "    state = np.zeros(16)\n",
    "    x,y = matrix.shape\n",
    "    for j in range(x):\n",
    "        for i in range(y):\n",
    "            if matrix[j][i] == 0:\n",
    "                state[j*x+i] == 0\n",
    "            else:\n",
    "                state[j*x+i] = log2(matrix[j][i])\n",
    "    return np.array(state)"
   ]
  },
  {
   "cell_type": "markdown",
   "metadata": {},
   "source": [
    "## Using the Policy Network with Reinforcement Learning"
   ]
  },
  {
   "cell_type": "code",
   "execution_count": 7,
   "metadata": {},
   "outputs": [],
   "source": [
    "import torch\n",
    "import torch.nn as nn\n",
    "import torch.nn.functional as F\n",
    "import torch.optim as optim"
   ]
  },
  {
   "cell_type": "markdown",
   "metadata": {},
   "source": [
    "## Frontward Propagation Model"
   ]
  },
  {
   "cell_type": "code",
   "execution_count": 8,
   "metadata": {},
   "outputs": [],
   "source": [
    "# Design the model\n",
    "\n",
    "class Frontward_propagation():\n",
    "    def __init__(self, W1, W2, W3):\n",
    "        self.h1 = 0\n",
    "        self.h2 = 0\n",
    "\n",
    "    def max_0(self, matrix):\n",
    "        for i in range(len(matrix)):\n",
    "            if matrix[i] < 0:\n",
    "                    matrix[i] = 0\n",
    "        return matrix\n",
    "\n",
    "    def Frontward(self, state):\n",
    "        '''\n",
    "            Setup a network Module for the front propagation\n",
    "        '''\n",
    "        state = torch.tensor(state).float()\n",
    "\n",
    "        self.h1 = F.relu(self.max_0(state @ W1)) \n",
    "        self.h2 = F.relu(self.max_0(self.h1 @ W2))\n",
    "        softmax = nn.Softmax(0)\n",
    "        self.prob = softmax(self.h2 @ W3)\n",
    "\n",
    "        return self.prob\n",
    "    \n",
    "    def action(self):\n",
    "        action = random.choices([0,1,2,3], weights= self.prob)[0]\n",
    "        return action"
   ]
  },
  {
   "cell_type": "markdown",
   "metadata": {},
   "source": [
    "## Backward Propagation Functions"
   ]
  },
  {
   "cell_type": "code",
   "execution_count": 9,
   "metadata": {},
   "outputs": [],
   "source": [
    "def action_to_array(action):\n",
    "    array = np.zeros(4)\n",
    "    array[action] = 1\n",
    "    return array\n",
    "\n",
    "def reward_array(game, n, N_batch, action):\n",
    "    array = np.zeros(N_batch)\n",
    "    #array[n] = game.High_value\n",
    "    array[n] = game.step_score\n",
    "    return array"
   ]
  },
  {
   "cell_type": "code",
   "execution_count": 10,
   "metadata": {},
   "outputs": [],
   "source": [
    "def compute_gradient(W1, W2, W3, states, H1, H2, prob, actions, rewards):\n",
    "    \n",
    "    V = rewards @ (actions - prob)\n",
    "    dW3 = H2.T @ V\n",
    "\n",
    "    dH2 = V @ W3.T\n",
    "    dW2 = H1.T @ dH2 \n",
    "    \n",
    "    dH1 = dH2 @ W2.T\n",
    "    dW1 = states.T @ dH1\n",
    "    \n",
    "    return dW1, dW2, dW3"
   ]
  },
  {
   "cell_type": "code",
   "execution_count": 59,
   "metadata": {
    "scrolled": false
   },
   "outputs": [],
   "source": [
    "W1 = torch.FloatTensor(16, 200).uniform_(-0.25, 0.25)\n",
    "W2 = torch.FloatTensor(200, 100).uniform_(-0.25, 0.25)\n",
    "W3 = torch.FloatTensor(100, 4).uniform_(-0.25, 0.25)\n",
    "\n",
    "N_iteration = 1000\n",
    "N_batch = 100\n",
    "lr = 1e-6\n",
    "states = torch.empty((N_batch,16))\n",
    "H1 = torch.empty((N_batch,200))\n",
    "H2 = torch.empty((N_batch,100))\n",
    "prob = torch.empty((N_batch,4))\n",
    "actions = torch.empty((N_batch,4))\n",
    "rewards = torch.empty((N_batch,N_batch))\n",
    "\n",
    "# list to store the performance\n",
    "High_value_achieved = []\n",
    "\n",
    "for i in range(N_iteration):\n",
    "    \n",
    "    '''\n",
    "    Game playing and NN training\n",
    "    '''\n",
    "    \n",
    "    # initialization of a new game\n",
    "    game = _2048()\n",
    "    n = 0\n",
    "    while n < N_batch and game.FAIL == False:\n",
    "        \n",
    "        # front-propagation for N training examples in one iteration\n",
    "        s = matrix_to_state(game.matrix)\n",
    "        m_front = Frontward_propagation(W1, W2, W3)\n",
    "        p = m_front.Frontward(s)\n",
    "        a = m_front.action()\n",
    "        \n",
    "        # only if the action is feasible, save values for back-propagation\n",
    "        if game.verif_action(a) == True:\n",
    "            states[n] = torch.FloatTensor(s)\n",
    "            H1[n] = m_front.h1\n",
    "            H2[n] = m_front.h2\n",
    "            prob[n] = p\n",
    "            actions[n] = torch.FloatTensor(action_to_array(a))\n",
    "            rewards[n] = torch.FloatTensor(reward_array(game, n, N_batch, a))\n",
    "\n",
    "        # if the action is unfeasible, choose a random action\n",
    "        else:\n",
    "            a = np.random.randint(0,4)\n",
    "            \n",
    "        # execute action\n",
    "        game.one_step(a)\n",
    "        n += 1\n",
    "        \n",
    "        #if game.FAIL == True:\n",
    "            #print(\"FAIL\", n, game.nb_de_tours, game.score)\n",
    "        \n",
    "    '''\n",
    "    Back propagation implementation\n",
    "    '''\n",
    "    dW1, dW2, dW3 = compute_gradient(W1, W2, W3, states, H1, H2, prob, actions, rewards)\n",
    "\n",
    "    W1 -= lr * dW1\n",
    "    W2 -= lr * dW2\n",
    "    W3 -= lr * dW3\n",
    "    \n",
    "    High_value_achieved.append(game.High_value)   "
   ]
  },
  {
   "cell_type": "code",
   "execution_count": 58,
   "metadata": {},
   "outputs": [
    {
     "data": {
      "image/png": "[encoded data removed]",
      "text/plain": [
       "<Figure size 432x288 with 1 Axes>"
      ]
     },
     "metadata": {
      "needs_background": "light"
     },
     "output_type": "display_data"
    }
   ],
   "source": [
    "x=np.arange(0,len(High_value_achieved))\n",
    "plt.plot(x,High_value_achieved)\n",
    "\n",
    "plt.show()"
   ]
  },
  {
   "cell_type": "code",
   "execution_count": null,
   "metadata": {},
   "outputs": [],
   "source": []
  }
 ],
 "metadata": {
  "kernelspec": {
   "display_name": "Python 3",
   "language": "python",
   "name": "python3"
  },
  "language_info": {
   "codemirror_mode": {
    "name": "ipython",
    "version": 3
   },
   "file_extension": ".py",
   "mimetype": "text/x-python",
   "name": "python",
   "nbconvert_exporter": "python",
   "pygments_lexer": "ipython3",
   "version": "3.8.5"
  }
 },
 "nbformat": 4,
 "nbformat_minor": 4
}
